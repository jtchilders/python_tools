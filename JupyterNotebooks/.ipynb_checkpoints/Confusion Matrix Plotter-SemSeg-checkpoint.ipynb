{
 "cells": [
  {
   "cell_type": "code",
   "execution_count": 11,
   "metadata": {},
   "outputs": [],
   "source": [
    "from matplotlib import pyplot as plt\n",
    "import json\n",
    "import numpy as np\n",
    "np.set_printoptions(precision=3,suppress=True)\n",
    "\n",
    "labels = {0:'l-jet',4:'c-jet',5:'b-jet',11:'elec',13:'muon',15:'tau',20:'bc-jet',40:'jet',50:'bkgd'}\n",
    "comb_jets = False\n",
    "\n",
    "x_labels_id = [0,11,50]\n",
    "if comb_jets:\n",
    "  x_labels_id = [40,11,13]\n",
    "x_labels_str = [labels[i] for i in x_labels_id]\n",
    "nlabels=len(x_labels_id)\n",
    "\n",
    "# handle stupid colormap being too long\n",
    "from mpl_toolkits.axes_grid1 import make_axes_locatable\n",
    "def colorbar(mappable):\n",
    "  ax = mappable.axes\n",
    "  fig = ax.figure\n",
    "  divider = make_axes_locatable(ax)\n",
    "  cax = divider.append_axes(\"right\", size=\"5%\", pad=0.05)\n",
    "  return fig.colorbar(mappable, cax=cax)\n",
    "\n",
    "def combine_ljets(mat):\n",
    "  # combines udsc-jet\n",
    "  matA = np.sum(mat[0:2,...],axis=0)\n",
    "  matB = np.array([matA,mat[2],mat[3],mat[4]])\n",
    "  matC = np.sum(matB[...,0:2],axis=1)\n",
    "  mat = np.array([matC,matB[...,2],matB[...,3],matB[...,4]]).transpose()\n",
    "  return mat\n",
    "\n",
    "def combine_jets(mat):\n",
    "  # combines udsc-jet\n",
    "  matA = np.sum(mat[0:3,...],axis=0)\n",
    "  matB = np.array([matA,mat[3],mat[4]])\n",
    "  matC = np.sum(matB[...,0:3],axis=1)\n",
    "  mat = np.array([matC,matB[...,3],matB[...,4]]).transpose()\n",
    "  return mat"
   ]
  },
  {
   "cell_type": "code",
   "execution_count": 12,
   "metadata": {},
   "outputs": [
    {
     "name": "stdout",
     "output_type": "stream",
     "text": [
      "[[0.992, 0.002, 0.006],\n",
      "[0.082, 0.85, , 0.069],\n",
      "[0.047, 0.019, 0.934]]\n"
     ]
    },
    {
     "ename": "JSONDecodeError",
     "evalue": "Expecting value: line 2 column 15 (char 38)",
     "output_type": "error",
     "traceback": [
      "\u001b[0;31m---------------------------------------------------------------------------\u001b[0m",
      "\u001b[0;31mJSONDecodeError\u001b[0m                           Traceback (most recent call last)",
      "\u001b[0;32m<ipython-input-12-ebb9f2b8fd99>\u001b[0m in \u001b[0;36m<module>\u001b[0;34m\u001b[0m\n\u001b[1;32m     68\u001b[0m \u001b[0;34m\u001b[0m\u001b[0m\n\u001b[1;32m     69\u001b[0m \u001b[0mprint\u001b[0m\u001b[0;34m(\u001b[0m\u001b[0mmat\u001b[0m\u001b[0;34m)\u001b[0m\u001b[0;34m\u001b[0m\u001b[0m\n\u001b[0;32m---> 70\u001b[0;31m \u001b[0mmat\u001b[0m \u001b[0;34m=\u001b[0m \u001b[0mjson\u001b[0m\u001b[0;34m.\u001b[0m\u001b[0mloads\u001b[0m\u001b[0;34m(\u001b[0m\u001b[0mmat\u001b[0m\u001b[0;34m)\u001b[0m\u001b[0;34m\u001b[0m\u001b[0m\n\u001b[0m\u001b[1;32m     71\u001b[0m \u001b[0;34m\u001b[0m\u001b[0m\n\u001b[1;32m     72\u001b[0m \u001b[0;34m\u001b[0m\u001b[0m\n",
      "\u001b[0;32m/Library/Frameworks/Python.framework/Versions/3.6/lib/python3.6/json/__init__.py\u001b[0m in \u001b[0;36mloads\u001b[0;34m(s, encoding, cls, object_hook, parse_float, parse_int, parse_constant, object_pairs_hook, **kw)\u001b[0m\n\u001b[1;32m    352\u001b[0m             \u001b[0mparse_int\u001b[0m \u001b[0;32mis\u001b[0m \u001b[0;32mNone\u001b[0m \u001b[0;32mand\u001b[0m \u001b[0mparse_float\u001b[0m \u001b[0;32mis\u001b[0m \u001b[0;32mNone\u001b[0m \u001b[0;32mand\u001b[0m\u001b[0;34m\u001b[0m\u001b[0m\n\u001b[1;32m    353\u001b[0m             parse_constant is None and object_pairs_hook is None and not kw):\n\u001b[0;32m--> 354\u001b[0;31m         \u001b[0;32mreturn\u001b[0m \u001b[0m_default_decoder\u001b[0m\u001b[0;34m.\u001b[0m\u001b[0mdecode\u001b[0m\u001b[0;34m(\u001b[0m\u001b[0ms\u001b[0m\u001b[0;34m)\u001b[0m\u001b[0;34m\u001b[0m\u001b[0m\n\u001b[0m\u001b[1;32m    355\u001b[0m     \u001b[0;32mif\u001b[0m \u001b[0mcls\u001b[0m \u001b[0;32mis\u001b[0m \u001b[0;32mNone\u001b[0m\u001b[0;34m:\u001b[0m\u001b[0;34m\u001b[0m\u001b[0m\n\u001b[1;32m    356\u001b[0m         \u001b[0mcls\u001b[0m \u001b[0;34m=\u001b[0m \u001b[0mJSONDecoder\u001b[0m\u001b[0;34m\u001b[0m\u001b[0m\n",
      "\u001b[0;32m/Library/Frameworks/Python.framework/Versions/3.6/lib/python3.6/json/decoder.py\u001b[0m in \u001b[0;36mdecode\u001b[0;34m(self, s, _w)\u001b[0m\n\u001b[1;32m    337\u001b[0m \u001b[0;34m\u001b[0m\u001b[0m\n\u001b[1;32m    338\u001b[0m         \"\"\"\n\u001b[0;32m--> 339\u001b[0;31m         \u001b[0mobj\u001b[0m\u001b[0;34m,\u001b[0m \u001b[0mend\u001b[0m \u001b[0;34m=\u001b[0m \u001b[0mself\u001b[0m\u001b[0;34m.\u001b[0m\u001b[0mraw_decode\u001b[0m\u001b[0;34m(\u001b[0m\u001b[0ms\u001b[0m\u001b[0;34m,\u001b[0m \u001b[0midx\u001b[0m\u001b[0;34m=\u001b[0m\u001b[0m_w\u001b[0m\u001b[0;34m(\u001b[0m\u001b[0ms\u001b[0m\u001b[0;34m,\u001b[0m \u001b[0;36m0\u001b[0m\u001b[0;34m)\u001b[0m\u001b[0;34m.\u001b[0m\u001b[0mend\u001b[0m\u001b[0;34m(\u001b[0m\u001b[0;34m)\u001b[0m\u001b[0;34m)\u001b[0m\u001b[0;34m\u001b[0m\u001b[0m\n\u001b[0m\u001b[1;32m    340\u001b[0m         \u001b[0mend\u001b[0m \u001b[0;34m=\u001b[0m \u001b[0m_w\u001b[0m\u001b[0;34m(\u001b[0m\u001b[0ms\u001b[0m\u001b[0;34m,\u001b[0m \u001b[0mend\u001b[0m\u001b[0;34m)\u001b[0m\u001b[0;34m.\u001b[0m\u001b[0mend\u001b[0m\u001b[0;34m(\u001b[0m\u001b[0;34m)\u001b[0m\u001b[0;34m\u001b[0m\u001b[0m\n\u001b[1;32m    341\u001b[0m         \u001b[0;32mif\u001b[0m \u001b[0mend\u001b[0m \u001b[0;34m!=\u001b[0m \u001b[0mlen\u001b[0m\u001b[0;34m(\u001b[0m\u001b[0ms\u001b[0m\u001b[0;34m)\u001b[0m\u001b[0;34m:\u001b[0m\u001b[0;34m\u001b[0m\u001b[0m\n",
      "\u001b[0;32m/Library/Frameworks/Python.framework/Versions/3.6/lib/python3.6/json/decoder.py\u001b[0m in \u001b[0;36mraw_decode\u001b[0;34m(self, s, idx)\u001b[0m\n\u001b[1;32m    355\u001b[0m             \u001b[0mobj\u001b[0m\u001b[0;34m,\u001b[0m \u001b[0mend\u001b[0m \u001b[0;34m=\u001b[0m \u001b[0mself\u001b[0m\u001b[0;34m.\u001b[0m\u001b[0mscan_once\u001b[0m\u001b[0;34m(\u001b[0m\u001b[0ms\u001b[0m\u001b[0;34m,\u001b[0m \u001b[0midx\u001b[0m\u001b[0;34m)\u001b[0m\u001b[0;34m\u001b[0m\u001b[0m\n\u001b[1;32m    356\u001b[0m         \u001b[0;32mexcept\u001b[0m \u001b[0mStopIteration\u001b[0m \u001b[0;32mas\u001b[0m \u001b[0merr\u001b[0m\u001b[0;34m:\u001b[0m\u001b[0;34m\u001b[0m\u001b[0m\n\u001b[0;32m--> 357\u001b[0;31m             \u001b[0;32mraise\u001b[0m \u001b[0mJSONDecodeError\u001b[0m\u001b[0;34m(\u001b[0m\u001b[0;34m\"Expecting value\"\u001b[0m\u001b[0;34m,\u001b[0m \u001b[0ms\u001b[0m\u001b[0;34m,\u001b[0m \u001b[0merr\u001b[0m\u001b[0;34m.\u001b[0m\u001b[0mvalue\u001b[0m\u001b[0;34m)\u001b[0m \u001b[0;32mfrom\u001b[0m \u001b[0;32mNone\u001b[0m\u001b[0;34m\u001b[0m\u001b[0m\n\u001b[0m\u001b[1;32m    358\u001b[0m         \u001b[0;32mreturn\u001b[0m \u001b[0mobj\u001b[0m\u001b[0;34m,\u001b[0m \u001b[0mend\u001b[0m\u001b[0;34m\u001b[0m\u001b[0m\n",
      "\u001b[0;31mJSONDecodeError\u001b[0m: Expecting value: line 2 column 15 (char 38)"
     ]
    }
   ],
   "source": [
    "'''mat = [[6333,17,1135,40],\n",
    "[2784,12,884,6],\n",
    "[2246,7,1387,2],\n",
    "[28,0,1,5102]]'''\n",
    "'''mat = [[6333,17,1135,40],\n",
    "[2784,12, 884,6],\n",
    "[2246,7,1387,2],\n",
    "[28,0 ,1,5102]]'''\n",
    "mat = \"\"\"6741   0    761   23\n",
    "3016   0   669    1\n",
    "2452   1   1189  0\n",
    "21        0   1        5109\"\"\"\n",
    "# mat = mat.split()\n",
    "# mat = [ [int(mat[i*4 + j]) for j in range(4)] for i in range(4)]\n",
    "\n",
    "# 1820390_model_00008_00800\n",
    "# matA = [[2163. ,1718. ,1008.,    5.],\n",
    "#  [ 238.,  231.,  191.,    0.],\n",
    "#  [1377., 1832., 2574.,    0.],\n",
    "#  [  19.,    8.,    8., 3788.]]\n",
    "\n",
    "\n",
    "matA = '''[[9.86446046e-01 3.89218818e-04 3.05306065e-06 0.00000000e+00 1.31616826e-02]\n",
    "[2.55179784e-01 3.49297518e-01 2.77008015e-05 0.00000000e+00 3.95494997e-01]\n",
    "[8.01053315e-02 5.06473017e-03 1.88320728e-02 0.00000000e+00 8.95997866e-01]\n",
    "[8.72459147e-01 1.27540853e-02 0.00000000e+00 0.00000000e+00 1.14786768e-01]\n",
    "[2.29724183e-02 1.38966323e-03 2.40840840e-05 0.00000000e+00 9.75613834e-01]]'''\n",
    "\n",
    "matB = '''[[9.86943863e-01 2.46984106e-04 1.64711390e-05 0.00000000e+00 1.27926814e-02]\n",
    "[1.99578331e-01 4.13390130e-01 1.50595930e-04 0.00000000e+00 3.86880943e-01]\n",
    "[7.27434762e-02 7.21307823e-03 4.70288987e-02 0.00000000e+00 8.73014547e-01]\n",
    "[7.45551601e-01 0.00000000e+00 0.00000000e+00 0.00000000e+00 2.54448399e-01]\n",
    "[1.88007333e-02 1.23121168e-03 1.42439860e-04 0.00000000e+00 9.79825615e-01]]'''\n",
    "\n",
    "matC = '''[[9.88801570e-01 1.61424800e-04 8.31515110e-06 1.40193448e-04\n",
    " 1.08884963e-02]\n",
    "[1.73410994e-01 4.32737863e-01 2.54716501e-05 4.39216152e-02\n",
    " 3.49904057e-01]\n",
    "[6.89699889e-02 4.70544646e-03 6.10781771e-02 6.42830678e-03\n",
    " 8.58818081e-01]\n",
    "[4.92919219e-01 8.58526856e-02 6.51564800e-03 8.17780311e-02\n",
    " 3.32934416e-01]\n",
    "[1.44259728e-02 7.71198234e-04 7.81725050e-05 1.58587409e-04\n",
    " 9.84566069e-01]]'''\n",
    "\n",
    "matD = '''[[142473.5, 6445.0, 1081.5, 0.0, 0.0], [0.0, 0.0, 0.0, 0.0, 0.0], [0.0, 0.0, 0.0, 0.0, 0.0], [0.0, 0.0, 0.0, 0.0, 0.0], [0.0, 0.0, 0.0, 0.0, 0.0]]'''\n",
    "\n",
    "\n",
    "matE = '''[[8.26716459e-01 2.65867458e-03 1.11480283e-01 5.91445840e-02]\n",
    "[2.67135145e-01 5.81507603e-01 3.15540811e-03 1.48201844e-01]\n",
    "[2.43061921e-01 7.41101902e-04 7.14188201e-01 4.20087762e-02]\n",
    "[5.09358525e-01 4.44541558e-02 7.88291848e-02 3.67358134e-01]]'''\n",
    "\n",
    "matF = '''[[0.99 0.002 0.008]\n",
    "[0.102 0.749 0.149]\n",
    "[0.055 0.024 0.921]]'''\n",
    "\n",
    "matG = '''[[0.992 0.002 0.006]\n",
    "[0.082 0.85  0.069]\n",
    "[0.047 0.019 0.934]]'''\n",
    "\n",
    "mat = matG\n",
    "\n",
    "mat = mat.replace('  ',' ',).replace(' ',', ')\n",
    "mat = mat.replace(']\\n','],\\n')\n",
    "\n",
    "\n",
    "\n",
    "print(mat)\n",
    "mat = json.loads(mat)\n",
    "\n",
    "\n",
    "\n",
    "mat = np.array(mat,dtype=np.float32)\n",
    "print('mat')\n",
    "print(mat)\n",
    "\n",
    "if comb_jets:\n",
    "  mat = combine_jets(mat)\n",
    "\n",
    "\n",
    "# s = mat.sum()\n",
    "# mat = np.divide(mat,s,where=s!=0,out=np.zeros(mat.shape))\n",
    "# print('norm')\n",
    "print(mat)\n",
    "#mat = np.array(pt_mat)"
   ]
  },
  {
   "cell_type": "markdown",
   "metadata": {},
   "source": [
    "matrix: Columns are predictions, rows are groundtruth"
   ]
  },
  {
   "cell_type": "code",
   "execution_count": 10,
   "metadata": {
    "scrolled": false
   },
   "outputs": [
    {
     "ename": "TypeError",
     "evalue": "Image data cannot be converted to float",
     "output_type": "error",
     "traceback": [
      "\u001b[0;31m---------------------------------------------------------------------------\u001b[0m",
      "\u001b[0;31mTypeError\u001b[0m                                 Traceback (most recent call last)",
      "\u001b[0;32m<ipython-input-10-6b4d9c75f3bd>\u001b[0m in \u001b[0;36m<module>\u001b[0;34m\u001b[0m\n\u001b[1;32m     36\u001b[0m     \u001b[0mplt\u001b[0m\u001b[0;34m.\u001b[0m\u001b[0mshow\u001b[0m\u001b[0;34m(\u001b[0m\u001b[0;34m)\u001b[0m\u001b[0;34m\u001b[0m\u001b[0m\n\u001b[1;32m     37\u001b[0m \u001b[0;34m\u001b[0m\u001b[0m\n\u001b[0;32m---> 38\u001b[0;31m \u001b[0mplot_matrix\u001b[0m\u001b[0;34m(\u001b[0m\u001b[0mmat\u001b[0m\u001b[0;34m)\u001b[0m\u001b[0;34m\u001b[0m\u001b[0m\n\u001b[0m",
      "\u001b[0;32m<ipython-input-10-6b4d9c75f3bd>\u001b[0m in \u001b[0;36mplot_matrix\u001b[0;34m(mat, title)\u001b[0m\n\u001b[1;32m      8\u001b[0m \u001b[0;32mdef\u001b[0m \u001b[0mplot_matrix\u001b[0m\u001b[0;34m(\u001b[0m\u001b[0mmat\u001b[0m\u001b[0;34m,\u001b[0m\u001b[0mtitle\u001b[0m\u001b[0;34m=\u001b[0m\u001b[0;34m''\u001b[0m\u001b[0;34m)\u001b[0m\u001b[0;34m:\u001b[0m\u001b[0;34m\u001b[0m\u001b[0m\n\u001b[1;32m      9\u001b[0m     \u001b[0mfig\u001b[0m\u001b[0;34m,\u001b[0m\u001b[0max\u001b[0m \u001b[0;34m=\u001b[0m \u001b[0mplt\u001b[0m\u001b[0;34m.\u001b[0m\u001b[0msubplots\u001b[0m\u001b[0;34m(\u001b[0m\u001b[0mfigsize\u001b[0m\u001b[0;34m=\u001b[0m\u001b[0;34m(\u001b[0m\u001b[0;36m10\u001b[0m\u001b[0;34m,\u001b[0m\u001b[0;36m10\u001b[0m\u001b[0;34m)\u001b[0m\u001b[0;34m,\u001b[0m\u001b[0mdpi\u001b[0m\u001b[0;34m=\u001b[0m\u001b[0;36m80\u001b[0m\u001b[0;34m)\u001b[0m\u001b[0;34m\u001b[0m\u001b[0m\n\u001b[0;32m---> 10\u001b[0;31m     \u001b[0mim\u001b[0m \u001b[0;34m=\u001b[0m \u001b[0max\u001b[0m\u001b[0;34m.\u001b[0m\u001b[0mimshow\u001b[0m\u001b[0;34m(\u001b[0m\u001b[0mmat\u001b[0m\u001b[0;34m,\u001b[0m \u001b[0mextent\u001b[0m\u001b[0;34m=\u001b[0m\u001b[0mextent\u001b[0m\u001b[0;34m,\u001b[0m \u001b[0morigin\u001b[0m\u001b[0;34m=\u001b[0m\u001b[0;34m'lower'\u001b[0m\u001b[0;34m,\u001b[0m \u001b[0minterpolation\u001b[0m\u001b[0;34m=\u001b[0m\u001b[0;34m'None'\u001b[0m\u001b[0;34m,\u001b[0m \u001b[0mcmap\u001b[0m\u001b[0;34m=\u001b[0m\u001b[0;34m'rainbow'\u001b[0m\u001b[0;34m,\u001b[0m\u001b[0maspect\u001b[0m\u001b[0;34m=\u001b[0m\u001b[0;34m'equal'\u001b[0m\u001b[0;34m)\u001b[0m\u001b[0;34m\u001b[0m\u001b[0m\n\u001b[0m\u001b[1;32m     11\u001b[0m     \u001b[0max\u001b[0m\u001b[0;34m.\u001b[0m\u001b[0mset_xticks\u001b[0m\u001b[0;34m(\u001b[0m\u001b[0mnp\u001b[0m\u001b[0;34m.\u001b[0m\u001b[0marray\u001b[0m\u001b[0;34m(\u001b[0m\u001b[0mrange\u001b[0m\u001b[0;34m(\u001b[0m\u001b[0mnlabels\u001b[0m\u001b[0;34m)\u001b[0m\u001b[0;34m)\u001b[0m\u001b[0;34m+\u001b[0m\u001b[0;36m0.5\u001b[0m\u001b[0;34m)\u001b[0m\u001b[0;34m\u001b[0m\u001b[0m\n\u001b[1;32m     12\u001b[0m     \u001b[0max\u001b[0m\u001b[0;34m.\u001b[0m\u001b[0mset_xticklabels\u001b[0m\u001b[0;34m(\u001b[0m\u001b[0mx_labels_str\u001b[0m\u001b[0;34m,\u001b[0m\u001b[0mfontsize\u001b[0m\u001b[0;34m=\u001b[0m\u001b[0;36m20\u001b[0m\u001b[0;34m)\u001b[0m\u001b[0;34m\u001b[0m\u001b[0m\n",
      "\u001b[0;32m/Library/Frameworks/Python.framework/Versions/3.6/lib/python3.6/site-packages/matplotlib/__init__.py\u001b[0m in \u001b[0;36minner\u001b[0;34m(ax, *args, **kwargs)\u001b[0m\n\u001b[1;32m   1865\u001b[0m                         \u001b[0;34m\"the Matplotlib list!)\"\u001b[0m \u001b[0;34m%\u001b[0m \u001b[0;34m(\u001b[0m\u001b[0mlabel_namer\u001b[0m\u001b[0;34m,\u001b[0m \u001b[0mfunc\u001b[0m\u001b[0;34m.\u001b[0m\u001b[0m__name__\u001b[0m\u001b[0;34m)\u001b[0m\u001b[0;34m,\u001b[0m\u001b[0;34m\u001b[0m\u001b[0m\n\u001b[1;32m   1866\u001b[0m                         RuntimeWarning, stacklevel=2)\n\u001b[0;32m-> 1867\u001b[0;31m             \u001b[0;32mreturn\u001b[0m \u001b[0mfunc\u001b[0m\u001b[0;34m(\u001b[0m\u001b[0max\u001b[0m\u001b[0;34m,\u001b[0m \u001b[0;34m*\u001b[0m\u001b[0margs\u001b[0m\u001b[0;34m,\u001b[0m \u001b[0;34m**\u001b[0m\u001b[0mkwargs\u001b[0m\u001b[0;34m)\u001b[0m\u001b[0;34m\u001b[0m\u001b[0m\n\u001b[0m\u001b[1;32m   1868\u001b[0m \u001b[0;34m\u001b[0m\u001b[0m\n\u001b[1;32m   1869\u001b[0m         inner.__doc__ = _add_data_doc(inner.__doc__,\n",
      "\u001b[0;32m/Library/Frameworks/Python.framework/Versions/3.6/lib/python3.6/site-packages/matplotlib/axes/_axes.py\u001b[0m in \u001b[0;36mimshow\u001b[0;34m(self, X, cmap, norm, aspect, interpolation, alpha, vmin, vmax, origin, extent, shape, filternorm, filterrad, imlim, resample, url, **kwargs)\u001b[0m\n\u001b[1;32m   5499\u001b[0m                               resample=resample, **kwargs)\n\u001b[1;32m   5500\u001b[0m \u001b[0;34m\u001b[0m\u001b[0m\n\u001b[0;32m-> 5501\u001b[0;31m         \u001b[0mim\u001b[0m\u001b[0;34m.\u001b[0m\u001b[0mset_data\u001b[0m\u001b[0;34m(\u001b[0m\u001b[0mX\u001b[0m\u001b[0;34m)\u001b[0m\u001b[0;34m\u001b[0m\u001b[0m\n\u001b[0m\u001b[1;32m   5502\u001b[0m         \u001b[0mim\u001b[0m\u001b[0;34m.\u001b[0m\u001b[0mset_alpha\u001b[0m\u001b[0;34m(\u001b[0m\u001b[0malpha\u001b[0m\u001b[0;34m)\u001b[0m\u001b[0;34m\u001b[0m\u001b[0m\n\u001b[1;32m   5503\u001b[0m         \u001b[0;32mif\u001b[0m \u001b[0mim\u001b[0m\u001b[0;34m.\u001b[0m\u001b[0mget_clip_path\u001b[0m\u001b[0;34m(\u001b[0m\u001b[0;34m)\u001b[0m \u001b[0;32mis\u001b[0m \u001b[0;32mNone\u001b[0m\u001b[0;34m:\u001b[0m\u001b[0;34m\u001b[0m\u001b[0m\n",
      "\u001b[0;32m/Library/Frameworks/Python.framework/Versions/3.6/lib/python3.6/site-packages/matplotlib/image.py\u001b[0m in \u001b[0;36mset_data\u001b[0;34m(self, A)\u001b[0m\n\u001b[1;32m    648\u001b[0m         if (self._A.dtype != np.uint8 and\n\u001b[1;32m    649\u001b[0m                 not np.can_cast(self._A.dtype, float, \"same_kind\")):\n\u001b[0;32m--> 650\u001b[0;31m             \u001b[0;32mraise\u001b[0m \u001b[0mTypeError\u001b[0m\u001b[0;34m(\u001b[0m\u001b[0;34m\"Image data cannot be converted to float\"\u001b[0m\u001b[0;34m)\u001b[0m\u001b[0;34m\u001b[0m\u001b[0m\n\u001b[0m\u001b[1;32m    651\u001b[0m \u001b[0;34m\u001b[0m\u001b[0m\n\u001b[1;32m    652\u001b[0m         if not (self._A.ndim == 2\n",
      "\u001b[0;31mTypeError\u001b[0m: Image data cannot be converted to float"
     ]
    },
    {
     "data": {
      "image/png": "[encoded data removed]",
      "text/plain": [
       "<Figure size 800x800 with 1 Axes>"
      ]
     },
     "metadata": {
      "needs_background": "light"
     },
     "output_type": "display_data"
    }
   ],
   "source": [
    "# add extent to figure to help place labels\n",
    "x_start = 0.0\n",
    "x_end = len(x_labels_id)\n",
    "y_start = 0.0\n",
    "y_end = len(x_labels_id)\n",
    "extent = [x_start, x_end, y_start, y_end]\n",
    "\n",
    "def plot_matrix(mat,title=''):\n",
    "    fig,ax = plt.subplots(figsize=(10,10),dpi=80)\n",
    "    im = ax.imshow(mat, extent=extent, origin='lower', interpolation='None', cmap='rainbow',aspect='equal')\n",
    "    ax.set_xticks(np.array(range(nlabels))+0.5)\n",
    "    ax.set_xticklabels(x_labels_str,fontsize=20)\n",
    "    ax.set_yticks(np.array(range(nlabels))+0.5)\n",
    "    ax.set_yticklabels(x_labels_str,fontsize=20)\n",
    "    ax.set_ylabel('true',fontsize=20)\n",
    "    ax.set_xlabel('predicted',fontsize=20)\n",
    "    ax.set_aspect('auto')\n",
    "\n",
    "    # Add the text\n",
    "    jump_x = (x_end - x_start) / (2.0 * nlabels)\n",
    "    jump_y = (y_end - y_start) / (2.0 * nlabels)\n",
    "    x_positions = np.linspace(start=x_start, stop=x_end, num=nlabels, endpoint=False)\n",
    "    y_positions = np.linspace(start=y_start, stop=y_end, num=nlabels, endpoint=False)\n",
    "\n",
    "    for y_index, y in enumerate(y_positions):\n",
    "        for x_index, x in enumerate(x_positions):\n",
    "            label = '%4.1f%%' % (mat[y_index, x_index]*100.)\n",
    "            #label = '%d' % mat[y_index][x_index]\n",
    "            text_x = x + jump_x\n",
    "            text_y = y + jump_y\n",
    "            ax.text(text_x, text_y, label, color='black', ha='center', va='center',fontsize=22)\n",
    "\n",
    "    cbar = colorbar(im)\n",
    "    cbar.ax.tick_params(labelsize=20)\n",
    "    plt.suptitle(title,fontsize=20,ha='center')\n",
    "    plt.show()\n",
    "\n",
    "plot_matrix(mat)"
   ]
  },
  {
   "cell_type": "code",
   "execution_count": null,
   "metadata": {},
   "outputs": [],
   "source": []
  },
  {
   "cell_type": "code",
   "execution_count": null,
   "metadata": {},
   "outputs": [],
   "source": []
  }
 ],
 "metadata": {
  "kernelspec": {
   "display_name": "Python 3",
   "language": "python",
   "name": "python3"
  },
  "language_info": {
   "codemirror_mode": {
    "name": "ipython",
    "version": 3
   },
   "file_extension": ".py",
   "mimetype": "text/x-python",
   "name": "python",
   "nbconvert_exporter": "python",
   "pygments_lexer": "ipython3",
   "version": "3.6.5"
  }
 },
 "nbformat": 4,
 "nbformat_minor": 2
}
