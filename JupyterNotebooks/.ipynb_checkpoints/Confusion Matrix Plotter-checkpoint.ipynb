{
 "cells": [
  {
   "cell_type": "code",
   "execution_count": 6,
   "metadata": {},
   "outputs": [
    {
     "ename": "IndentationError",
     "evalue": "expected an indented block (<ipython-input-6-0b10ffae0f37>, line 10)",
     "output_type": "error",
     "traceback": [
      "\u001b[0;36m  File \u001b[0;32m\"<ipython-input-6-0b10ffae0f37>\"\u001b[0;36m, line \u001b[0;32m10\u001b[0m\n\u001b[0;31m    x_labels_str = [labels[i] for i in x_labels_id]\u001b[0m\n\u001b[0m               ^\u001b[0m\n\u001b[0;31mIndentationError\u001b[0m\u001b[0;31m:\u001b[0m expected an indented block\n"
     ]
    }
   ],
   "source": [
    "from matplotlib import pyplot as plt\n",
    "import numpy as np\n",
    "np.set_printoptions(precision=3,suppress=True)\n",
    "\n",
    "labels = {0:'l-jet',4:'c-jet',5:'b-jet',11:'elec',13:'muon',15:'tau',20:'bc-jet',40:'jet'}\n",
    "comb_jets = True\n",
    "\n",
    "x_labels_id = [0,4,5,11,13]\n",
    "if comb_jets:\n",
    "  x_labels_id = [0,11,13]\n",
    "x_labels_str = [labels[i] for i in x_labels_id]\n",
    "nlabels=len(x_labels_id)\n",
    "\n",
    "# handle stupid colormap being too long\n",
    "from mpl_toolkits.axes_grid1 import make_axes_locatable\n",
    "def colorbar(mappable):\n",
    "  ax = mappable.axes\n",
    "  fig = ax.figure\n",
    "  divider = make_axes_locatable(ax)\n",
    "  cax = divider.append_axes(\"right\", size=\"5%\", pad=0.05)\n",
    "  return fig.colorbar(mappable, cax=cax)\n",
    "\n",
    "def combine_ljets(mat):\n",
    "  # combines udsc-jet\n",
    "  matA = np.sum(mat[0:2,...],axis=0)\n",
    "  matB = np.array([matA,mat[2],mat[3],mat[4]])\n",
    "  matC = np.sum(matB[...,0:2],axis=1)\n",
    "  mat = np.array([matC,matB[...,2],matB[...,3],matB[...,4]]).transpose()\n",
    "  return mat\n",
    "\n",
    "def combine_jets(mat):\n",
    "  # combines udsc-jet\n",
    "  matA = np.sum(mat[0:3,...],axis=0)\n",
    "  matB = np.array([matA,mat[3],mat[4]])\n",
    "  matC = np.sum(matB[...,0:3],axis=1)\n",
    "  mat = np.array([matC,matB[...,3],matB[...,4]]).transpose()\n",
    "  return mat"
   ]
  },
  {
   "cell_type": "code",
   "execution_count": 5,
   "metadata": {},
   "outputs": [
    {
     "name": "stdout",
     "output_type": "stream",
     "text": [
      "mat\n",
      "[[1943. 1559.  902.    6.    3.]\n",
      " [ 647.  636.  592.    0.    0.]\n",
      " [1216. 1638. 2329.    0.    9.]\n",
      " [  35.    6.    5. 3835.    7.]\n",
      " [   1.    2.    7.    3. 3819.]]\n",
      "norm\n",
      "[[0.995 0.002 0.003]\n",
      " [0.004 0.998 0.002]\n",
      " [0.001 0.001 0.995]]\n"
     ]
    }
   ],
   "source": [
    "'''mat = [[6333,17,1135,40],\n",
    "[2784,12,884,6],\n",
    "[2246,7,1387,2],\n",
    "[28,0,1,5102]]'''\n",
    "'''mat = [[6333,17,1135,40],\n",
    "[2784,12, 884,6],\n",
    "[2246,7,1387,2],\n",
    "[28,0 ,1,5102]]'''\n",
    "mat = \"\"\"6741   0    761   23\n",
    "3016   0   669    1\n",
    "2452   1   1189  0\n",
    "21        0   1        5109\"\"\"\n",
    "mat = mat.split()\n",
    "mat = [ [int(mat[i*4 + j]) for j in range(4)] for i in range(4)]\n",
    "\n",
    "# 1820390_model_00008_00800\n",
    "matA = [[2163. ,1718. ,1008.,    5.],\n",
    " [ 238.,  231.,  191.,    0.],\n",
    " [1377., 1832., 2574.,    0.],\n",
    " [  19.,    8.,    8., 3788.]]\n",
    "\n",
    "# 1820893_model_00005_01300\n",
    "matB = [[1.800e+03,1.368e+03 ,7.200e+02, 3.000e+00],\n",
    " [4.880e+02, 4.890e+02, 3.650e+02, 0.000e+00],\n",
    " [1.491e+03, 1.925e+03, 2.685e+03, 0.000e+00],\n",
    " [1.800e+01, 7.000e+00, 1.100e+01, 3.790e+03]]\n",
    "\n",
    "# 1820893_model_00011_00600\n",
    "matC = [[1.807e+03, 1.379e+03, 7.170e+02, 8.000e+00],\n",
    " [3.190e+02, 3.460e+02, 2.670e+02, 0.000e+00],\n",
    " [1.657e+03, 2.057e+03, 2.788e+03, 1.000e+00],\n",
    " [1.400e+01, 7.000e+00, 9.000e+00, 3.784e+03]]\n",
    "\n",
    "# 1821980_model_00006_02000\n",
    "matD = [[2.175e+03, 1.771e+03, 1.034e+03, 1.000e+01],\n",
    " [3.380e+02, 3.490e+02, 3.250e+02, 0.000e+00],\n",
    " [1.272e+03, 1.661e+03, 2.415e+03, 1.000e+00],\n",
    " [1.200e+01, 8.000e+00, 7.000e+00, 3.782e+03]]\n",
    "\n",
    "# 1823897_model_00009_00500.torch_model_state_dict\n",
    "mat = [[1.943e+03, 1.559e+03, 9.020e+02, 6.000e+00, 3.000e+00],\n",
    " [6.470e+02, 6.360e+02, 5.920e+02, 0.000e+00, 0.000e+00],\n",
    " [1.216e+03, 1.638e+03, 2.329e+03, 0.000e+00, 9.000e+00],\n",
    " [3.500e+01, 6.000e+00, 5.000e+00, 3.835e+03, 7.000e+00],\n",
    " [1.000e+00, 2.000e+00, 7.000e+00, 3.000e+00, 3.819e+03]]\n",
    "\n",
    "\n",
    "mat = np.array(mat)\n",
    "print('mat')\n",
    "print(mat)\n",
    "\n",
    "comb_jets = True\n",
    "if comb_jets:\n",
    "  mat = combine_jets(mat)\n",
    "\n",
    "\n",
    "s = mat.sum(axis=0)\n",
    "mat = np.divide(mat,s,where=s!=0,out=np.zeros(mat.shape))\n",
    "print('norm')\n",
    "print(mat)\n",
    "#mat = np.array(pt_mat)"
   ]
  },
  {
   "cell_type": "markdown",
   "metadata": {},
   "source": [
    "matrix: Columns are predictions, rows are groundtruth"
   ]
  },
  {
   "cell_type": "code",
   "execution_count": null,
   "metadata": {
    "scrolled": false
   },
   "outputs": [],
   "source": [
    "# add extent to figure to help place labels\n",
    "x_start = 0.0\n",
    "x_end = len(x_labels_id)\n",
    "y_start = 0.0\n",
    "y_end = len(x_labels_id)\n",
    "extent = [x_start, x_end, y_start, y_end]\n",
    "\n",
    "def plot_matrix(mat,title=''):\n",
    "    fig,ax = plt.subplots(figsize=(10,10),dpi=80)\n",
    "    im = ax.imshow(mat, extent=extent, origin='lower', interpolation='None', cmap='rainbow',aspect='equal')\n",
    "    ax.set_xticks(np.array(range(nlabels))+0.5)\n",
    "    ax.set_xticklabels(x_labels_str,fontsize=20)\n",
    "    ax.set_yticks(np.array(range(nlabels))+0.5)\n",
    "    ax.set_yticklabels(x_labels_str,fontsize=20)\n",
    "    ax.set_ylabel('true',fontsize=20)\n",
    "    ax.set_xlabel('predicted',fontsize=20)\n",
    "    ax.set_aspect('auto')\n",
    "\n",
    "    # Add the text\n",
    "    jump_x = (x_end - x_start) / (2.0 * nlabels)\n",
    "    jump_y = (y_end - y_start) / (2.0 * nlabels)\n",
    "    x_positions = np.linspace(start=x_start, stop=x_end, num=nlabels, endpoint=False)\n",
    "    y_positions = np.linspace(start=y_start, stop=y_end, num=nlabels, endpoint=False)\n",
    "\n",
    "    for y_index, y in enumerate(y_positions):\n",
    "        for x_index, x in enumerate(x_positions):\n",
    "            label = '%4.1f%%' % (mat[y_index, x_index]*100.)\n",
    "            #label = '%d' % mat[y_index][x_index]\n",
    "            text_x = x + jump_x\n",
    "            text_y = y + jump_y\n",
    "            ax.text(text_x, text_y, label, color='black', ha='center', va='center',fontsize=22)\n",
    "\n",
    "    cbar = colorbar(im)\n",
    "    cbar.ax.tick_params(labelsize=20)\n",
    "    plt.suptitle(title,fontsize=20,ha='center')\n",
    "    plt.show()\n",
    "\n",
    "plot_matrix(mat)"
   ]
  },
  {
   "cell_type": "code",
   "execution_count": null,
   "metadata": {},
   "outputs": [],
   "source": []
  }
 ],
 "metadata": {
  "kernelspec": {
   "display_name": "Python 3",
   "language": "python",
   "name": "python3"
  },
  "language_info": {
   "codemirror_mode": {
    "name": "ipython",
    "version": 3
   },
   "file_extension": ".py",
   "mimetype": "text/x-python",
   "name": "python",
   "nbconvert_exporter": "python",
   "pygments_lexer": "ipython3",
   "version": "3.6.5"
  }
 },
 "nbformat": 4,
 "nbformat_minor": 2
}
