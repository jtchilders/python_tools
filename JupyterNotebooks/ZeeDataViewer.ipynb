{
 "cells": [
  {
   "cell_type": "code",
   "execution_count": 2,
   "metadata": {},
   "outputs": [],
   "source": [
    "import pandas as pd\n",
    "import numpy as np\n",
    "%matplotlib inline\n",
    "from matplotlib import pyplot as plt"
   ]
  },
  {
   "cell_type": "code",
   "execution_count": 3,
   "metadata": {},
   "outputs": [],
   "source": [
    "filename = '/Users/jchilders/zee2jets/01180a38-1e97-409c-8e7e-f214d9770c43_nevts1_evtid00000343_graphcnn_2l_2j.csv'"
   ]
  },
  {
   "cell_type": "code",
   "execution_count": 4,
   "metadata": {},
   "outputs": [],
   "source": [
    "col_names    = ['id', 'index', 'x', 'y', 'z', 'r', 'eta', 'phi', 'Et','pid','n','trk_good','trk_id','trk_pt']\n",
    "col_dtype    = {'id': np.int64, 'index': np.int32, 'x': np.float32, 'y': np.float32,\n",
    "                           'z': np.float32, 'eta': np.float32, 'phi': np.float32, 'r': np.float32,\n",
    "                           'Et': np.float32, 'pid': np.float32, 'n': np.float32,\n",
    "                           'trk_good': np.float32, 'trk_id': np.float32, 'trk_pt': np.float32}"
   ]
  },
  {
   "cell_type": "code",
   "execution_count": 5,
   "metadata": {},
   "outputs": [],
   "source": [
    "data = pd.read_csv(filename,header=None,names=col_names, dtype=col_dtype, sep='\\t')"
   ]
  },
  {
   "cell_type": "code",
   "execution_count": 6,
   "metadata": {},
   "outputs": [
    {
     "data": {
      "text/plain": [
       "3789"
      ]
     },
     "execution_count": 6,
     "metadata": {},
     "output_type": "execute_result"
    }
   ],
   "source": [
    "len(data)"
   ]
  },
  {
   "cell_type": "code",
   "execution_count": 31,
   "metadata": {},
   "outputs": [
    {
     "name": "stdout",
     "output_type": "stream",
     "text": [
      "116.0 685.8196\n"
     ]
    }
   ],
   "source": []
  },
  {
   "cell_type": "code",
   "execution_count": 35,
   "metadata": {},
   "outputs": [
    {
     "data": {
      "text/plain": [
       "(array([ 41.,  91.,  97., 233., 204., 136., 150.,  70.,  85.,  63.,  36.,\n",
       "         54.,  26.,  62.,  46.,  22.,  41.,  19.,  41.,  32.,  10.,  35.,\n",
       "         15.,  25.,  24.,  15.,  31.,  10.,  22.,  18.,   8.,  15.,   7.,\n",
       "         14.,  17.,   3.,   5.,   2.,   4.,  10.,   3.,   7.,   3.,   4.,\n",
       "          2.,   4.,   2.,   4.,   5.,   0.,   0.,   3.,   1.,   2.,   2.,\n",
       "          0.,   2.,   0.,   1.,   0.,   0.,   0.,   0.,   0.,   1.,   0.,\n",
       "          2.,   1.,   1.,   1.,   0.,   0.,   0.,   0.,   0.,   0.,   1.,\n",
       "          0.,   0.,   0.,   0.,   0.,   0.,   0.,   0.,   0.,   0.,   0.,\n",
       "          1.,   1.,   0.,   0.,   0.,   1.,   0.,   0.,   0.,   0.,   0.,\n",
       "          1.]),\n",
       " array([  2.0371094,   3.6367383,   5.236367 ,   6.835996 ,   8.435625 ,\n",
       "         10.035254 ,  11.634883 ,  13.234511 ,  14.834141 ,  16.43377  ,\n",
       "         18.033398 ,  19.633028 ,  21.232656 ,  22.832285 ,  24.431913 ,\n",
       "         26.031544 ,  27.631172 ,  29.2308   ,  30.83043  ,  32.430058 ,\n",
       "         34.029686 ,  35.62932  ,  37.228947 ,  38.828575 ,  40.428204 ,\n",
       "         42.027832 ,  43.62746  ,  45.22709  ,  46.826717 ,  48.426346 ,\n",
       "         50.025978 ,  51.625607 ,  53.225235 ,  54.824863 ,  56.42449  ,\n",
       "         58.02412  ,  59.62375  ,  61.223377 ,  62.82301  ,  64.42264  ,\n",
       "         66.02226  ,  67.621895 ,  69.22153  ,  70.82115  ,  72.420784 ,\n",
       "         74.02041  ,  75.62004  ,  77.219666 ,  78.8193   ,  80.41892  ,\n",
       "         82.018555 ,  83.61819  ,  85.21781  ,  86.817444 ,  88.41707  ,\n",
       "         90.0167   ,  91.616325 ,  93.21596  ,  94.81558  ,  96.415215 ,\n",
       "         98.01485  ,  99.61447  , 101.2141   , 102.81373  , 104.41336  ,\n",
       "        106.012985 , 107.61262  , 109.21225  , 110.811874 , 112.41151  ,\n",
       "        114.01113  , 115.61076  , 117.21039  , 118.81002  , 120.409645 ,\n",
       "        122.00928  , 123.60891  , 125.208534 , 126.80817  , 128.40779  ,\n",
       "        130.00742  , 131.60706  , 133.20668  , 134.8063   , 136.40594  ,\n",
       "        138.00557  , 139.6052   , 141.20482  , 142.80446  , 144.40408  ,\n",
       "        146.00371  , 147.60333  , 149.20297  , 150.8026   , 152.40222  ,\n",
       "        154.00186  , 155.60149  , 157.20111  , 158.80074  , 160.40038  ,\n",
       "        162.       ], dtype=float32),\n",
       " <a list of 100 Patch objects>)"
      ]
     },
     "execution_count": 35,
     "metadata": {},
     "output_type": "execute_result"
    },
    {
     "data": {
      "image/png": "[encoded data removed]",
      "text/plain": [
       "<Figure size 432x288 with 1 Axes>"
      ]
     },
     "metadata": {
      "needs_background": "light"
     },
     "output_type": "display_data"
    }
   ],
   "source": [
    "plt.hist(data[data['Et'] > 2]['Et'],100)"
   ]
  },
  {
   "cell_type": "code",
   "execution_count": null,
   "metadata": {},
   "outputs": [],
   "source": []
  }
 ],
 "metadata": {
  "kernelspec": {
   "display_name": "Python 3",
   "language": "python",
   "name": "python3"
  },
  "language_info": {
   "codemirror_mode": {
    "name": "ipython",
    "version": 3
   },
   "file_extension": ".py",
   "mimetype": "text/x-python",
   "name": "python",
   "nbconvert_exporter": "python",
   "pygments_lexer": "ipython3",
   "version": "3.6.5"
  }
 },
 "nbformat": 4,
 "nbformat_minor": 2
}
